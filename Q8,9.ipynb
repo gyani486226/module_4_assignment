{
 "cells": [
  {
   "cell_type": "raw",
   "id": "7925569d-9967-4e2d-804e-2c9e264c4464",
   "metadata": {},
   "source": [
    "Q8. Use a lambda function in Python to sort a list of tuples based on the second element of each tuple."
   ]
  },
  {
   "cell_type": "code",
   "execution_count": 20,
   "id": "d7b96d20-8f3b-412d-9e29-a12ef8e9302b",
   "metadata": {},
   "outputs": [],
   "source": [
    "list1 = [(1, \"orange\"),(2, \"banana\"),(3, \"apple\"),(4, \"pineapple\"),(5, \"grapes\")]\n",
    "\n",
    "sorted_list = sorted(list1 , key = lambda list1:list1[1])\n"
   ]
  },
  {
   "cell_type": "code",
   "execution_count": 22,
   "id": "16f0e397-e1e1-43ed-9666-40e6531a8838",
   "metadata": {},
   "outputs": [
    {
     "data": {
      "text/plain": [
       "[(3, 'apple'), (2, 'banana'), (5, 'grapes'), (1, 'orange'), (4, 'pineapple')]"
      ]
     },
     "execution_count": 22,
     "metadata": {},
     "output_type": "execute_result"
    }
   ],
   "source": [
    "sorted_list"
   ]
  },
  {
   "cell_type": "code",
   "execution_count": null,
   "id": "48d8e06f-94a2-4cd7-9164-849cb99c786f",
   "metadata": {},
   "outputs": [],
   "source": []
  },
  {
   "cell_type": "raw",
   "id": "5d69fa14-eb65-4fbe-bd39-16109dc59abe",
   "metadata": {},
   "source": [
    "Q9. Write a Python program that uses `map()` to convert a list of temperatures from Celsius to Fahrenheit."
   ]
  },
  {
   "cell_type": "code",
   "execution_count": 94,
   "id": "4914241d-f496-48bd-9853-88b577b5eebe",
   "metadata": {},
   "outputs": [],
   "source": [
    "celsius_list = [35, 21, 25, 28, 50]\n",
    "def convert(fahrenheit):\n",
    "    return fahrenheit*1.8+32\n"
   ]
  },
  {
   "cell_type": "code",
   "execution_count": 96,
   "id": "36abefbd-be73-4874-857b-f0b019856846",
   "metadata": {},
   "outputs": [
    {
     "data": {
      "text/plain": [
       "[95.0, 69.80000000000001, 77.0, 82.4, 122.0]"
      ]
     },
     "execution_count": 96,
     "metadata": {},
     "output_type": "execute_result"
    }
   ],
   "source": [
    "list(map(convert, celsius_list))"
   ]
  },
  {
   "cell_type": "code",
   "execution_count": null,
   "id": "37c0781f-8658-4d2e-b572-154fcf6845ec",
   "metadata": {},
   "outputs": [],
   "source": []
  },
  {
   "cell_type": "code",
   "execution_count": null,
   "id": "ebd294a1-b83d-4ece-9259-44dc3924e040",
   "metadata": {},
   "outputs": [],
   "source": []
  },
  {
   "cell_type": "code",
   "execution_count": null,
   "id": "be838d60-2bc4-40c9-b435-b5902e9c8a58",
   "metadata": {},
   "outputs": [],
   "source": []
  }
 ],
 "metadata": {
  "kernelspec": {
   "display_name": "Python 3 (ipykernel)",
   "language": "python",
   "name": "python3"
  },
  "language_info": {
   "codemirror_mode": {
    "name": "ipython",
    "version": 3
   },
   "file_extension": ".py",
   "mimetype": "text/x-python",
   "name": "python",
   "nbconvert_exporter": "python",
   "pygments_lexer": "ipython3",
   "version": "3.12.4"
  }
 },
 "nbformat": 4,
 "nbformat_minor": 5
}
