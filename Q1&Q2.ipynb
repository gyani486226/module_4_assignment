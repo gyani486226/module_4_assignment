{
 "cells": [
  {
   "cell_type": "raw",
   "id": "858cf902-c7d8-4db3-b79f-aab7f1a33138",
   "metadata": {
    "editable": true,
    "raw_mimetype": "",
    "slideshow": {
     "slide_type": ""
    },
    "tags": []
   },
   "source": [
    "Q1 Write a function that takes a list of numbers as input and returns the sum of all even numbers in the list."
   ]
  },
  {
   "cell_type": "code",
   "execution_count": null,
   "id": "be861d7a-c808-4c56-89a5-58df1498dff8",
   "metadata": {},
   "outputs": [],
   "source": []
  },
  {
   "cell_type": "code",
   "execution_count": 2,
   "id": "c6840ce6-2404-41db-8400-f52bd89e1b28",
   "metadata": {},
   "outputs": [],
   "source": [
    "def sum_of_even_numbers(number):\n",
    "    sum_numbers = 0\n",
    "    for i in number:\n",
    "        if (i%2==0):\n",
    "            sum_numbers = sum_numbers +i\n",
    "    return sum_numbers"
   ]
  },
  {
   "cell_type": "code",
   "execution_count": 3,
   "id": "76a3e331-869d-467f-b8e0-0733a1bd8231",
   "metadata": {},
   "outputs": [
    {
     "data": {
      "text/plain": [
       "12"
      ]
     },
     "execution_count": 3,
     "metadata": {},
     "output_type": "execute_result"
    }
   ],
   "source": [
    "sum_of_even_numbers([2, 4, 6, 3, 7])"
   ]
  },
  {
   "cell_type": "code",
   "execution_count": 4,
   "id": "1ca5047c-8a4d-4c7f-852f-a3bc6fa7204d",
   "metadata": {},
   "outputs": [
    {
     "data": {
      "text/plain": [
       "58"
      ]
     },
     "execution_count": 4,
     "metadata": {},
     "output_type": "execute_result"
    }
   ],
   "source": [
    "sum_of_even_numbers([24,10,4,7,8,9,12])"
   ]
  },
  {
   "cell_type": "raw",
   "id": "140143f9-b580-4a39-b425-252149aad641",
   "metadata": {},
   "source": [
    "Q2 Create a python function that accepts a string and returns the reverse of that string."
   ]
  },
  {
   "cell_type": "code",
   "execution_count": 5,
   "id": "ed336787-9b48-4c7f-ae08-771ca40d6df4",
   "metadata": {},
   "outputs": [],
   "source": [
    "def string(a):\n",
    "    if type(a) == str:\n",
    "        reverse = a[::-1]\n",
    "        return reverse\n",
    "    else:\n",
    "        return \"Not a string\""
   ]
  },
  {
   "cell_type": "code",
   "execution_count": 6,
   "id": "3112ad9d-cbbd-47c8-9fa7-b527d3d58e70",
   "metadata": {},
   "outputs": [
    {
     "data": {
      "text/plain": [
       "'unahS'"
      ]
     },
     "execution_count": 6,
     "metadata": {},
     "output_type": "execute_result"
    }
   ],
   "source": [
    "string(\"Shanu\")"
   ]
  },
  {
   "cell_type": "code",
   "execution_count": 7,
   "id": "16ad5c3c-efe4-4fcc-9494-ac81f89e7f77",
   "metadata": {},
   "outputs": [],
   "source": [
    "def string(a):\n",
    "     if type(a) == str:\n",
    "        reverse = \"\"\n",
    "        length = len(a)\n",
    "        for i in a:\n",
    "            reverse = reverse + a[length-1]\n",
    "            length = length - 1\n",
    "        return reverse\n",
    "     else:\n",
    "        return \"Not a string\"\n"
   ]
  },
  {
   "cell_type": "code",
   "execution_count": 8,
   "id": "cd45a8a8-b77f-419f-86ab-89b80089b708",
   "metadata": {},
   "outputs": [
    {
     "data": {
      "text/plain": [
       "'olleh'"
      ]
     },
     "execution_count": 8,
     "metadata": {},
     "output_type": "execute_result"
    }
   ],
   "source": [
    "string(\"hello\")"
   ]
  },
  {
   "cell_type": "code",
   "execution_count": 9,
   "id": "8ab36170-e5b6-4046-94ee-83d3ea3e0472",
   "metadata": {},
   "outputs": [
    {
     "data": {
      "text/plain": [
       "'hsuyA'"
      ]
     },
     "execution_count": 9,
     "metadata": {},
     "output_type": "execute_result"
    }
   ],
   "source": [
    "string(\"Ayush\")"
   ]
  },
  {
   "cell_type": "raw",
   "id": "c5793dc3-b9cf-4413-b45f-3b072f65fdff",
   "metadata": {},
   "source": []
  },
  {
   "cell_type": "code",
   "execution_count": null,
   "id": "af992613-b2dd-454c-a44c-39709fca281c",
   "metadata": {},
   "outputs": [],
   "source": []
  },
  {
   "cell_type": "code",
   "execution_count": null,
   "id": "f3b50d2e-9710-4be8-9d77-c02bc767e08d",
   "metadata": {},
   "outputs": [],
   "source": [
    "     "
   ]
  }
 ],
 "metadata": {
  "kernelspec": {
   "display_name": "Python 3 (ipykernel)",
   "language": "python",
   "name": "python3"
  },
  "language_info": {
   "codemirror_mode": {
    "name": "ipython",
    "version": 3
   },
   "file_extension": ".py",
   "mimetype": "text/x-python",
   "name": "python",
   "nbconvert_exporter": "python",
   "pygments_lexer": "ipython3",
   "version": "3.12.4"
  }
 },
 "nbformat": 4,
 "nbformat_minor": 5
}
