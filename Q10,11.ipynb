{
 "cells": [
  {
   "cell_type": "raw",
   "id": "e646f16d-4ac4-4c82-813f-5de309325ec6",
   "metadata": {
    "editable": true,
    "raw_mimetype": "",
    "slideshow": {
     "slide_type": ""
    },
    "tags": []
   },
   "source": [
    "10. Create a Python program that uses `filter()` to remove all the vowels from a given string."
   ]
  },
  {
   "cell_type": "code",
   "execution_count": 1,
   "id": "a11cbfb0-465d-49ec-a706-e0dd8a1bad76",
   "metadata": {},
   "outputs": [],
   "source": [
    "def remove_vowels(a):       \n",
    "    for i in a:\n",
    "        if i == 'a' or i == 'e' or i == 'i' or i == 'o' or i == 'u':\n",
    "            print(i, \"= vowels\")\n",
    "        else:\n",
    "            print(i, \"= consonant\")"
   ]
  },
  {
   "cell_type": "code",
   "execution_count": 2,
   "id": "3dc4e15b-966d-430d-81b7-ed6784f01d29",
   "metadata": {},
   "outputs": [
    {
     "name": "stdout",
     "output_type": "stream",
     "text": [
      "s = consonant\n",
      "h = consonant\n",
      "a = vowels\n",
      "n = consonant\n",
      "u = vowels\n"
     ]
    }
   ],
   "source": [
    "remove_vowels(\"shanu\")"
   ]
  },
  {
   "cell_type": "code",
   "execution_count": 3,
   "id": "5859f2e0-58cd-40ed-ad9a-f433114a056a",
   "metadata": {},
   "outputs": [
    {
     "name": "stdout",
     "output_type": "stream",
     "text": [
      "['k', 'r', 's', 's', 'h']\n",
      "krssh\n"
     ]
    }
   ],
   "source": [
    "l = \"krissh\"\n",
    "filtered_string = list(filter(lambda x:x.lower() not in \"aeiou\",  l))\n",
    "print(filtered_string)\n",
    "str1 = \"\"\n",
    "for i in filtered_string:\n",
    "    str1+=i\n",
    "print(str1)    "
   ]
  },
  {
   "cell_type": "code",
   "execution_count": 4,
   "id": "34a47137-9e59-4a20-968a-1be683a44952",
   "metadata": {},
   "outputs": [
    {
     "name": "stdout",
     "output_type": "stream",
     "text": [
      "krssh\n"
     ]
    }
   ],
   "source": [
    "# or use \"\".join()  direct convert\n",
    "a = \"\".join(filtered_string)\n",
    "print(a)"
   ]
  },
  {
   "cell_type": "raw",
   "id": "42886d71-8262-427b-99d4-96fc843c7d4a",
   "metadata": {},
   "source": [
    "Q11.  Imagine an accounting routine used in a book shop. It works on a list with sublists, which look like this:\n",
    "\n",
    "order number         Book title and author                     Quantity                       price per item\n",
    "34587                learning python, Mark lutz                     4                               40.95\n",
    "98762                programming python, mark lutz                  5                               56.80\n",
    "77226                Head first python, paul Barry                  3                               32.95\n",
    "88112                Ein                Bernd klein                 3                               24.99\n",
    "\n",
    "\n",
    "Write a Python program, which returns a list with 2-tuples. Each tuple consists of the order number and the\n",
    "product of the price per item and the quantity. The product should be increased by 10,€ if the value of the\n",
    "order is smaller than 100,00 €.\n",
    "\n",
    "Write a Python program using lambda and map."
   ]
  },
  {
   "cell_type": "code",
   "execution_count": 79,
   "id": "a3a59915-6cf8-489a-aa3c-a3611852e73a",
   "metadata": {},
   "outputs": [
    {
     "name": "stdout",
     "output_type": "stream",
     "text": [
      "[(34587, 173.8), (98762, 294.0), (77226, 108.85000000000001)]\n"
     ]
    }
   ],
   "source": [
    "order_numbers = [34587, 98762, 77226]\n",
    "quantities = [4, 5, 3, 3]\n",
    "price_per_item = [40.95, 56.80, 32.95, 24.99]\n",
    "\n",
    "# Calculate the total value for each order\n",
    "total_values = list(map(lambda order_numbers,x, y, : (order_numbers, (x * y + 10) if x * y < 10000 else x * y),order_numbers, quantities, price_per_item))\n",
    "\n",
    "print(total_values)\n"
   ]
  },
  {
   "cell_type": "code",
   "execution_count": null,
   "id": "a51ffd91-ef47-4bd2-bbbe-b42139e3ab70",
   "metadata": {},
   "outputs": [],
   "source": []
  },
  {
   "cell_type": "code",
   "execution_count": null,
   "id": "d2896328-e5cd-43d2-a3b0-96ad674eed8f",
   "metadata": {},
   "outputs": [],
   "source": []
  },
  {
   "cell_type": "code",
   "execution_count": null,
   "id": "6e086784-9e52-409d-b876-57dff65ca562",
   "metadata": {},
   "outputs": [],
   "source": []
  }
 ],
 "metadata": {
  "kernelspec": {
   "display_name": "Python 3 (ipykernel)",
   "language": "python",
   "name": "python3"
  },
  "language_info": {
   "codemirror_mode": {
    "name": "ipython",
    "version": 3
   },
   "file_extension": ".py",
   "mimetype": "text/x-python",
   "name": "python",
   "nbconvert_exporter": "python",
   "pygments_lexer": "ipython3",
   "version": "3.12.4"
  }
 },
 "nbformat": 4,
 "nbformat_minor": 5
}
