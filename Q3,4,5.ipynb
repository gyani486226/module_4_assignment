{
 "cells": [
  {
   "cell_type": "raw",
   "id": "aa1c0925-1ade-4d61-bd9f-89352ab1a8d4",
   "metadata": {},
   "source": [
    "Q3. Implement a python function that takes a list of integers and returns a new list containing the squares of each number."
   ]
  },
  {
   "cell_type": "code",
   "execution_count": 1,
   "id": "e1a3c5ee-484f-4c11-b79a-af8fab63fca5",
   "metadata": {},
   "outputs": [],
   "source": [
    "def square_num(a):\n",
    "    list_of_square = []\n",
    "    for i in a:\n",
    "        if type(i) == int:\n",
    "            list_of_square.append(i**2)\n",
    "    return list_of_square       \n",
    "            "
   ]
  },
  {
   "cell_type": "code",
   "execution_count": 2,
   "id": "f0b03506-738e-4de6-9843-99724653bd6b",
   "metadata": {},
   "outputs": [
    {
     "data": {
      "text/plain": [
       "[1, 4, 25, 36]"
      ]
     },
     "execution_count": 2,
     "metadata": {},
     "output_type": "execute_result"
    }
   ],
   "source": [
    "square_num([1,2,5,\"shanu\",6,\"ram\"])"
   ]
  },
  {
   "cell_type": "code",
   "execution_count": null,
   "id": "50695c75-8244-4b69-90cc-883fb8d9d101",
   "metadata": {},
   "outputs": [],
   "source": []
  },
  {
   "cell_type": "raw",
   "id": "93f73796-1c61-494a-9571-14820c5d41a8",
   "metadata": {},
   "source": [
    "Q4. Write a Python function that checks if a given number is prime or not from 1 to 200."
   ]
  },
  {
   "cell_type": "code",
   "execution_count": 3,
   "id": "07a533a7-abd2-4ddf-8444-1fb38157f756",
   "metadata": {},
   "outputs": [],
   "source": [
    "def prime_number(num):\n",
    "    if num > 1 and num <= 200: \n",
    "        count = 0    \n",
    "        for i in range(2,(num+1)): \n",
    "            if num%i == 0:\n",
    "                count+=1\n",
    "        if count == 1:\n",
    "            return(\"The given number is prime\")    \n",
    "        else:\n",
    "            return(\"not prime\")"
   ]
  },
  {
   "cell_type": "code",
   "execution_count": 4,
   "id": "af50a41a-eeaf-4c35-bc67-eaf1748cc620",
   "metadata": {},
   "outputs": [
    {
     "data": {
      "text/plain": [
       "'The given number is prime'"
      ]
     },
     "execution_count": 4,
     "metadata": {},
     "output_type": "execute_result"
    }
   ],
   "source": [
    "prime_number(19)"
   ]
  },
  {
   "cell_type": "raw",
   "id": "bdf767cc-8fa4-41c0-bf37-8d0d2e2f1f38",
   "metadata": {},
   "source": [
    "Q5. Create an iterator class in Python that generates the Fibonacci sequence up to a specified number of\n",
    "terms."
   ]
  },
  {
   "cell_type": "code",
   "execution_count": 5,
   "id": "16129896-320e-4084-af5b-ae67e650fbfe",
   "metadata": {},
   "outputs": [],
   "source": [
    "def fibo(n):\n",
    "    a = 0\n",
    "    b = 1\n",
    "    for i in range(n):\n",
    "        yield a\n",
    "        a,b = b,a+b  "
   ]
  },
  {
   "cell_type": "code",
   "execution_count": 6,
   "id": "84612d30-b5a0-4e20-8f0a-ea4249ce205e",
   "metadata": {},
   "outputs": [],
   "source": [
    " a = fibo(10)"
   ]
  },
  {
   "cell_type": "code",
   "execution_count": 7,
   "id": "a66a85e1-8744-463b-abc5-1c3b68bbe0f6",
   "metadata": {},
   "outputs": [
    {
     "data": {
      "text/plain": [
       "0"
      ]
     },
     "execution_count": 7,
     "metadata": {},
     "output_type": "execute_result"
    }
   ],
   "source": [
    "next(a)"
   ]
  },
  {
   "cell_type": "code",
   "execution_count": 8,
   "id": "36397bb5-9f45-4863-955d-cbfe335afc08",
   "metadata": {},
   "outputs": [
    {
     "data": {
      "text/plain": [
       "1"
      ]
     },
     "execution_count": 8,
     "metadata": {},
     "output_type": "execute_result"
    }
   ],
   "source": [
    "next(a)"
   ]
  },
  {
   "cell_type": "code",
   "execution_count": 9,
   "id": "fc95b005-6edd-4d4b-89cf-bdffeb15e271",
   "metadata": {},
   "outputs": [
    {
     "data": {
      "text/plain": [
       "1"
      ]
     },
     "execution_count": 9,
     "metadata": {},
     "output_type": "execute_result"
    }
   ],
   "source": [
    "next(a)"
   ]
  },
  {
   "cell_type": "code",
   "execution_count": 10,
   "id": "a2fc27ba-a637-4859-9bee-c37c9788a7f0",
   "metadata": {},
   "outputs": [
    {
     "data": {
      "text/plain": [
       "2"
      ]
     },
     "execution_count": 10,
     "metadata": {},
     "output_type": "execute_result"
    }
   ],
   "source": [
    "next(a)"
   ]
  },
  {
   "cell_type": "code",
   "execution_count": 11,
   "id": "7ded0b1d-af55-4105-893f-aca9570a67d3",
   "metadata": {},
   "outputs": [],
   "source": [
    "# One at at time\n",
    "def fibo(n):\n",
    "    a = 0\n",
    "    b = 1\n",
    "    for i in range(n):\n",
    "        print(a, end=\" \")\n",
    "        a,b = b,a+b  "
   ]
  },
  {
   "cell_type": "code",
   "execution_count": 12,
   "id": "3736c3d7-19b6-43af-9f19-3974b67f42d5",
   "metadata": {},
   "outputs": [
    {
     "name": "stdout",
     "output_type": "stream",
     "text": [
      "0 1 1 2 3 5 8 13 21 34 "
     ]
    }
   ],
   "source": [
    "fibo(10)"
   ]
  },
  {
   "cell_type": "code",
   "execution_count": null,
   "id": "7440be34-66e4-423a-a187-55d23bb52169",
   "metadata": {},
   "outputs": [],
   "source": []
  }
 ],
 "metadata": {
  "kernelspec": {
   "display_name": "Python 3 (ipykernel)",
   "language": "python",
   "name": "python3"
  },
  "language_info": {
   "codemirror_mode": {
    "name": "ipython",
    "version": 3
   },
   "file_extension": ".py",
   "mimetype": "text/x-python",
   "name": "python",
   "nbconvert_exporter": "python",
   "pygments_lexer": "ipython3",
   "version": "3.12.4"
  }
 },
 "nbformat": 4,
 "nbformat_minor": 5
}
